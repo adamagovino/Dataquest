{
 "cells": [
  {
   "cell_type": "code",
   "execution_count": 1,
   "metadata": {
    "collapsed": true
   },
   "outputs": [],
   "source": [
    "#Finding the Best Markets to Advertise In"
   ]
  },
  {
   "cell_type": "code",
   "execution_count": 2,
   "metadata": {
    "collapsed": false
   },
   "outputs": [
    {
     "data": {
      "text/plain": [
       "(18175, 136)"
      ]
     },
     "execution_count": 2,
     "metadata": {},
     "output_type": "execute_result"
    }
   ],
   "source": [
    "import pandas as pd\n",
    "data = pd.read_csv('2017-fCC-New-Coders-Survey-Data.csv', low_memory = 0)\n",
    "data.shape"
   ]
  },
  {
   "cell_type": "code",
   "execution_count": 3,
   "metadata": {
    "collapsed": false
   },
   "outputs": [
    {
     "data": {
      "text/html": [
       "<div>\n",
       "<style scoped>\n",
       "    .dataframe tbody tr th:only-of-type {\n",
       "        vertical-align: middle;\n",
       "    }\n",
       "\n",
       "    .dataframe tbody tr th {\n",
       "        vertical-align: top;\n",
       "    }\n",
       "\n",
       "    .dataframe thead th {\n",
       "        text-align: right;\n",
       "    }\n",
       "</style>\n",
       "<table border=\"1\" class=\"dataframe\">\n",
       "  <thead>\n",
       "    <tr style=\"text-align: right;\">\n",
       "      <th></th>\n",
       "      <th>Age</th>\n",
       "      <th>AttendedBootcamp</th>\n",
       "      <th>BootcampFinish</th>\n",
       "      <th>BootcampLoanYesNo</th>\n",
       "      <th>BootcampName</th>\n",
       "      <th>BootcampRecommend</th>\n",
       "      <th>ChildrenNumber</th>\n",
       "      <th>CityPopulation</th>\n",
       "      <th>CodeEventConferences</th>\n",
       "      <th>CodeEventDjangoGirls</th>\n",
       "      <th>...</th>\n",
       "      <th>YouTubeFCC</th>\n",
       "      <th>YouTubeFunFunFunction</th>\n",
       "      <th>YouTubeGoogleDev</th>\n",
       "      <th>YouTubeLearnCode</th>\n",
       "      <th>YouTubeLevelUpTuts</th>\n",
       "      <th>YouTubeMIT</th>\n",
       "      <th>YouTubeMozillaHacks</th>\n",
       "      <th>YouTubeOther</th>\n",
       "      <th>YouTubeSimplilearn</th>\n",
       "      <th>YouTubeTheNewBoston</th>\n",
       "    </tr>\n",
       "  </thead>\n",
       "  <tbody>\n",
       "    <tr>\n",
       "      <th>0</th>\n",
       "      <td>27.0</td>\n",
       "      <td>0.0</td>\n",
       "      <td>NaN</td>\n",
       "      <td>NaN</td>\n",
       "      <td>NaN</td>\n",
       "      <td>NaN</td>\n",
       "      <td>NaN</td>\n",
       "      <td>more than 1 million</td>\n",
       "      <td>NaN</td>\n",
       "      <td>NaN</td>\n",
       "      <td>...</td>\n",
       "      <td>NaN</td>\n",
       "      <td>NaN</td>\n",
       "      <td>NaN</td>\n",
       "      <td>NaN</td>\n",
       "      <td>NaN</td>\n",
       "      <td>NaN</td>\n",
       "      <td>NaN</td>\n",
       "      <td>NaN</td>\n",
       "      <td>NaN</td>\n",
       "      <td>NaN</td>\n",
       "    </tr>\n",
       "    <tr>\n",
       "      <th>1</th>\n",
       "      <td>34.0</td>\n",
       "      <td>0.0</td>\n",
       "      <td>NaN</td>\n",
       "      <td>NaN</td>\n",
       "      <td>NaN</td>\n",
       "      <td>NaN</td>\n",
       "      <td>NaN</td>\n",
       "      <td>less than 100,000</td>\n",
       "      <td>NaN</td>\n",
       "      <td>NaN</td>\n",
       "      <td>...</td>\n",
       "      <td>1.0</td>\n",
       "      <td>NaN</td>\n",
       "      <td>NaN</td>\n",
       "      <td>NaN</td>\n",
       "      <td>NaN</td>\n",
       "      <td>NaN</td>\n",
       "      <td>NaN</td>\n",
       "      <td>NaN</td>\n",
       "      <td>NaN</td>\n",
       "      <td>NaN</td>\n",
       "    </tr>\n",
       "    <tr>\n",
       "      <th>2</th>\n",
       "      <td>21.0</td>\n",
       "      <td>0.0</td>\n",
       "      <td>NaN</td>\n",
       "      <td>NaN</td>\n",
       "      <td>NaN</td>\n",
       "      <td>NaN</td>\n",
       "      <td>NaN</td>\n",
       "      <td>more than 1 million</td>\n",
       "      <td>NaN</td>\n",
       "      <td>NaN</td>\n",
       "      <td>...</td>\n",
       "      <td>NaN</td>\n",
       "      <td>NaN</td>\n",
       "      <td>NaN</td>\n",
       "      <td>1.0</td>\n",
       "      <td>1.0</td>\n",
       "      <td>NaN</td>\n",
       "      <td>NaN</td>\n",
       "      <td>NaN</td>\n",
       "      <td>NaN</td>\n",
       "      <td>NaN</td>\n",
       "    </tr>\n",
       "    <tr>\n",
       "      <th>3</th>\n",
       "      <td>26.0</td>\n",
       "      <td>0.0</td>\n",
       "      <td>NaN</td>\n",
       "      <td>NaN</td>\n",
       "      <td>NaN</td>\n",
       "      <td>NaN</td>\n",
       "      <td>NaN</td>\n",
       "      <td>between 100,000 and 1 million</td>\n",
       "      <td>NaN</td>\n",
       "      <td>NaN</td>\n",
       "      <td>...</td>\n",
       "      <td>1.0</td>\n",
       "      <td>1.0</td>\n",
       "      <td>NaN</td>\n",
       "      <td>NaN</td>\n",
       "      <td>1.0</td>\n",
       "      <td>NaN</td>\n",
       "      <td>NaN</td>\n",
       "      <td>NaN</td>\n",
       "      <td>NaN</td>\n",
       "      <td>NaN</td>\n",
       "    </tr>\n",
       "    <tr>\n",
       "      <th>4</th>\n",
       "      <td>20.0</td>\n",
       "      <td>0.0</td>\n",
       "      <td>NaN</td>\n",
       "      <td>NaN</td>\n",
       "      <td>NaN</td>\n",
       "      <td>NaN</td>\n",
       "      <td>NaN</td>\n",
       "      <td>between 100,000 and 1 million</td>\n",
       "      <td>NaN</td>\n",
       "      <td>NaN</td>\n",
       "      <td>...</td>\n",
       "      <td>NaN</td>\n",
       "      <td>NaN</td>\n",
       "      <td>NaN</td>\n",
       "      <td>NaN</td>\n",
       "      <td>NaN</td>\n",
       "      <td>NaN</td>\n",
       "      <td>NaN</td>\n",
       "      <td>NaN</td>\n",
       "      <td>NaN</td>\n",
       "      <td>NaN</td>\n",
       "    </tr>\n",
       "  </tbody>\n",
       "</table>\n",
       "<p>5 rows × 136 columns</p>\n",
       "</div>"
      ],
      "text/plain": [
       "    Age  AttendedBootcamp  BootcampFinish  BootcampLoanYesNo BootcampName  \\\n",
       "0  27.0               0.0             NaN                NaN          NaN   \n",
       "1  34.0               0.0             NaN                NaN          NaN   \n",
       "2  21.0               0.0             NaN                NaN          NaN   \n",
       "3  26.0               0.0             NaN                NaN          NaN   \n",
       "4  20.0               0.0             NaN                NaN          NaN   \n",
       "\n",
       "   BootcampRecommend  ChildrenNumber                 CityPopulation  \\\n",
       "0                NaN             NaN            more than 1 million   \n",
       "1                NaN             NaN              less than 100,000   \n",
       "2                NaN             NaN            more than 1 million   \n",
       "3                NaN             NaN  between 100,000 and 1 million   \n",
       "4                NaN             NaN  between 100,000 and 1 million   \n",
       "\n",
       "   CodeEventConferences  CodeEventDjangoGirls         ...           \\\n",
       "0                   NaN                   NaN         ...            \n",
       "1                   NaN                   NaN         ...            \n",
       "2                   NaN                   NaN         ...            \n",
       "3                   NaN                   NaN         ...            \n",
       "4                   NaN                   NaN         ...            \n",
       "\n",
       "   YouTubeFCC  YouTubeFunFunFunction  YouTubeGoogleDev  YouTubeLearnCode  \\\n",
       "0         NaN                    NaN               NaN               NaN   \n",
       "1         1.0                    NaN               NaN               NaN   \n",
       "2         NaN                    NaN               NaN               1.0   \n",
       "3         1.0                    1.0               NaN               NaN   \n",
       "4         NaN                    NaN               NaN               NaN   \n",
       "\n",
       "   YouTubeLevelUpTuts  YouTubeMIT  YouTubeMozillaHacks YouTubeOther  \\\n",
       "0                 NaN         NaN                  NaN          NaN   \n",
       "1                 NaN         NaN                  NaN          NaN   \n",
       "2                 1.0         NaN                  NaN          NaN   \n",
       "3                 1.0         NaN                  NaN          NaN   \n",
       "4                 NaN         NaN                  NaN          NaN   \n",
       "\n",
       "   YouTubeSimplilearn  YouTubeTheNewBoston  \n",
       "0                 NaN                  NaN  \n",
       "1                 NaN                  NaN  \n",
       "2                 NaN                  NaN  \n",
       "3                 NaN                  NaN  \n",
       "4                 NaN                  NaN  \n",
       "\n",
       "[5 rows x 136 columns]"
      ]
     },
     "execution_count": 3,
     "metadata": {},
     "output_type": "execute_result"
    }
   ],
   "source": [
    "data.head()"
   ]
  },
  {
   "cell_type": "code",
   "execution_count": 3,
   "metadata": {
    "collapsed": false
   },
   "outputs": [
    {
     "data": {
      "text/plain": [
       "Full-Stack Web Developer                                                                                                                                                                                   11.770595\n",
       "  Front-End Web Developer                                                                                                                                                                                   6.435927\n",
       "  Data Scientist                                                                                                                                                                                            2.173913\n",
       "Back-End Web Developer                                                                                                                                                                                      2.030892\n",
       "  Mobile Developer                                                                                                                                                                                          1.673341\n",
       "Game Developer                                                                                                                                                                                              1.630435\n",
       "Information Security                                                                                                                                                                                        1.315789\n",
       "Full-Stack Web Developer,   Front-End Web Developer                                                                                                                                                         0.915332\n",
       "  Front-End Web Developer, Full-Stack Web Developer                                                                                                                                                         0.800915\n",
       "  Product Manager                                                                                                                                                                                           0.786613\n",
       "Data Engineer                                                                                                                                                                                               0.758009\n",
       "  User Experience Designer                                                                                                                                                                                  0.743707\n",
       "  User Experience Designer,   Front-End Web Developer                                                                                                                                                       0.614989\n",
       "  Front-End Web Developer, Back-End Web Developer, Full-Stack Web Developer                                                                                                                                 0.557780\n",
       "Back-End Web Developer,   Front-End Web Developer, Full-Stack Web Developer                                                                                                                                 0.514874\n",
       "  DevOps / SysAdmin                                                                                                                                                                                         0.514874\n",
       "Back-End Web Developer, Full-Stack Web Developer,   Front-End Web Developer                                                                                                                                 0.514874\n",
       "Full-Stack Web Developer,   Front-End Web Developer, Back-End Web Developer                                                                                                                                 0.443364\n",
       "  Front-End Web Developer, Full-Stack Web Developer, Back-End Web Developer                                                                                                                                 0.429062\n",
       "  Front-End Web Developer,   User Experience Designer                                                                                                                                                       0.414760\n",
       "Full-Stack Web Developer,   Mobile Developer                                                                                                                                                                0.414760\n",
       "Back-End Web Developer, Full-Stack Web Developer                                                                                                                                                            0.386156\n",
       "Full-Stack Web Developer, Back-End Web Developer                                                                                                                                                            0.371854\n",
       "Back-End Web Developer,   Front-End Web Developer                                                                                                                                                           0.286041\n",
       "Data Engineer,   Data Scientist                                                                                                                                                                             0.271739\n",
       "Full-Stack Web Developer, Back-End Web Developer,   Front-End Web Developer                                                                                                                                 0.271739\n",
       "  Front-End Web Developer,   Mobile Developer                                                                                                                                                               0.257437\n",
       "Full-Stack Web Developer,   Data Scientist                                                                                                                                                                  0.243135\n",
       "  Data Scientist, Data Engineer                                                                                                                                                                             0.228833\n",
       "  Mobile Developer, Game Developer                                                                                                                                                                          0.228833\n",
       "                                                                                                                                                                                                             ...    \n",
       "  DevOps / SysAdmin, Full-Stack Web Developer, Data Engineer,   Data Scientist, Information Security                                                                                                        0.014302\n",
       "Pharmaceutical industry                                                                                                                                                                                     0.014302\n",
       "Back-End Web Developer, Game Developer,   User Experience Designer,   Data Scientist, Full-Stack Web Developer,   Mobile Developer                                                                          0.014302\n",
       "Full-Stack Web Developer,   Mobile Developer, Back-End Web Developer,   DevOps / SysAdmin,   Front-End Web Developer                                                                                        0.014302\n",
       "  Product Manager,   User Experience Designer,   Front-End Web Developer, Back-End Web Developer, Full-Stack Web Developer, Game Developer                                                                  0.014302\n",
       "Game Developer,   DevOps / SysAdmin, Full-Stack Web Developer                                                                                                                                               0.014302\n",
       "  Data Scientist, Full-Stack Web Developer, Information Security,   Quality Assurance Engineer, Data Engineer, Back-End Web Developer                                                                       0.014302\n",
       "Full-Stack Web Developer,   Data Scientist, Information Security, Data Engineer, Game Developer                                                                                                             0.014302\n",
       "Data Engineer, Full-Stack Web Developer,   Front-End Web Developer,   Mobile Developer                                                                                                                      0.014302\n",
       "  Product Manager,   Front-End Web Developer, Back-End Web Developer, Full-Stack Web Developer,   User Experience Designer, Game Developer, Data Engineer,   Data Scientist                                 0.014302\n",
       "Back-End Web Developer, Data Engineer,   Data Scientist,   Mobile Developer, Full-Stack Web Developer, Information Security,   DevOps / SysAdmin,   Quality Assurance Engineer                              0.014302\n",
       "  Mobile Developer, Back-End Web Developer, Game Developer,   Front-End Web Developer                                                                                                                       0.014302\n",
       "email coder                                                                                                                                                                                                 0.014302\n",
       "Data Engineer,   Data Scientist,   Front-End Web Developer, Full-Stack Web Developer, Back-End Web Developer,   Mobile Developer                                                                            0.014302\n",
       "  Front-End Web Developer,   User Experience Designer,   Data Scientist, Full-Stack Web Developer                                                                                                           0.014302\n",
       "  User Experience Designer, Game Developer,   Mobile Developer,   Front-End Web Developer,   Quality Assurance Engineer                                                                                     0.014302\n",
       "  DevOps / SysAdmin, Back-End Web Developer,   Front-End Web Developer, Full-Stack Web Developer                                                                                                            0.014302\n",
       "  Product Manager,   Mobile Developer, Game Developer, Software enginner                                                                                                                                    0.014302\n",
       "  User Experience Designer, Data Engineer,   Front-End Web Developer, Back-End Web Developer,   Data Scientist,   Mobile Developer, Information Security, Full-Stack Web Developer,   DevOps / SysAdmin     0.014302\n",
       "  Front-End Web Developer, Full-Stack Web Developer, Back-End Web Developer,   Product Manager,   Mobile Developer                                                                                          0.014302\n",
       "Full-Stack Web Developer,   DevOps / SysAdmin,   Front-End Web Developer, Back-End Web Developer, Data Engineer                                                                                             0.014302\n",
       "Data Engineer,   Data Scientist, Full-Stack Web Developer,   Quality Assurance Engineer,   Front-End Web Developer                                                                                          0.014302\n",
       "Data Engineer,   DevOps / SysAdmin,   Data Scientist, Information Security,   User Experience Designer                                                                                                      0.014302\n",
       "  Mobile Developer,   Data Scientist, Full-Stack Web Developer,   Front-End Web Developer, Back-End Web Developer, Information Security, Game Developer                                                     0.014302\n",
       "  User Experience Designer, Game Developer, Information Security                                                                                                                                            0.014302\n",
       "  User Experience Designer,   Quality Assurance Engineer,   Mobile Developer,   Front-End Web Developer, Full-Stack Web Developer                                                                           0.014302\n",
       "  Mobile Developer,   Product Manager,   Data Scientist, Full-Stack Web Developer                                                                                                                           0.014302\n",
       "  Data Scientist, Full-Stack Web Developer,   Front-End Web Developer, Game Developer,   Mobile Developer                                                                                                   0.014302\n",
       "  Data Scientist, Game Developer,   Quality Assurance Engineer                                                                                                                                              0.014302\n",
       "  DevOps / SysAdmin, Data Engineer,   Quality Assurance Engineer,   Data Scientist                                                                                                                          0.014302\n",
       "Name: JobRoleInterest, Length: 3213, dtype: float64"
      ]
     },
     "execution_count": 3,
     "metadata": {},
     "output_type": "execute_result"
    }
   ],
   "source": [
    "import pandas as pd\n",
    "data = pd.read_csv('2017-fCC-New-Coders-Survey-Data.csv', low_memory = 0)\n",
    "data['JobRoleInterest'].value_counts(normalize = True) * 100"
   ]
  },
  {
   "cell_type": "code",
   "execution_count": 10,
   "metadata": {
    "collapsed": false
   },
   "outputs": [
    {
     "data": {
      "text/plain": [
       "1                                 Full-Stack Web Developer\n",
       "2          Front-End Web Developer, Back-End Web Develo...\n",
       "3          Front-End Web Developer, Full-Stack Web Deve...\n",
       "4        Full-Stack Web Developer, Information Security...\n",
       "6                                 Full-Stack Web Developer\n",
       "9        Full-Stack Web Developer,   Quality Assurance ...\n",
       "11         DevOps / SysAdmin,   Data Scientist, Informa...\n",
       "13       Back-End Web Developer, Full-Stack Web Develop...\n",
       "14                                Full-Stack Web Developer\n",
       "15                                Full-Stack Web Developer\n",
       "16                                Full-Stack Web Developer\n",
       "18       Full-Stack Web Developer,   Front-End Web Deve...\n",
       "19         Front-End Web Developer,   Mobile Developer,...\n",
       "21                                    Information Security\n",
       "22                                Full-Stack Web Developer\n",
       "23                                  Back-End Web Developer\n",
       "28                                Full-Stack Web Developer\n",
       "29         Front-End Web Developer,   Data Scientist, F...\n",
       "30        Back-End Web Developer, Full-Stack Web Developer\n",
       "31                                 Front-End Web Developer\n",
       "32         Data Scientist, Information Security, Data E...\n",
       "33       Full-Stack Web Developer,   Quality Assurance ...\n",
       "34        Back-End Web Developer, Full-Stack Web Developer\n",
       "35       Back-End Web Developer, Full-Stack Web Develop...\n",
       "37                     Mobile Developer,   Product Manager\n",
       "40         Front-End Web Developer, Back-End Web Develo...\n",
       "41                                 Front-End Web Developer\n",
       "42                                Full-Stack Web Developer\n",
       "43       Back-End Web Developer,   Front-End Web Develo...\n",
       "52         Data Scientist, Game Developer, Full-Stack W...\n",
       "                               ...                        \n",
       "18080          Mobile Developer,   Front-End Web Developer\n",
       "18081    Full-Stack Web Developer, Back-End Web Develop...\n",
       "18088                             Full-Stack Web Developer\n",
       "18089                           Quality Assurance Engineer\n",
       "18090    Game Developer,   Data Scientist, Full-Stack W...\n",
       "18093          Front-End Web Developer,   Mobile Developer\n",
       "18097    Game Developer,   Mobile Developer, Full-Stack...\n",
       "18098      Front-End Web Developer, Full-Stack Web Deve...\n",
       "18099                             Full-Stack Web Developer\n",
       "18107                             Full-Stack Web Developer\n",
       "18111                     Mobile Developer, Game Developer\n",
       "18112      Mobile Developer, Game Developer, Full-Stack...\n",
       "18113                     Mobile Developer, Game Developer\n",
       "18118      DevOps / SysAdmin, Full-Stack Web Developer,...\n",
       "18125      Front-End Web Developer, Full-Stack Web Deve...\n",
       "18129                                     Mobile Developer\n",
       "18130      Front-End Web Developer,   User Experience D...\n",
       "18131    Game Developer,   Front-End Web Developer, Bac...\n",
       "18151                              Front-End Web Developer\n",
       "18153       Information Security, Full-Stack Web Developer\n",
       "18154                             Full-Stack Web Developer\n",
       "18155    Full-Stack Web Developer,   Front-End Web Deve...\n",
       "18156                             Full-Stack Web Developer\n",
       "18157    Back-End Web Developer, Data Engineer,   Mobil...\n",
       "18160                             User Experience Designer\n",
       "18161                             Full-Stack Web Developer\n",
       "18162      Data Scientist, Game Developer,   Quality As...\n",
       "18163    Back-End Web Developer, Data Engineer,   Data ...\n",
       "18171      DevOps / SysAdmin,   Mobile Developer,   Pro...\n",
       "18174    Back-End Web Developer, Data Engineer,   Data ...\n",
       "Name: JobRoleInterest, Length: 6992, dtype: object"
      ]
     },
     "execution_count": 10,
     "metadata": {},
     "output_type": "execute_result"
    }
   ],
   "source": [
    "import pandas as pd\n",
    "data = pd.read_csv('2017-fCC-New-Coders-Survey-Data.csv', low_memory = 0)\n",
    "data['JobRoleInterest'].value_counts(normalize = True) * 100\n",
    "\n",
    "# Split each string in the 'JobRoleInterest' column\n",
    "interests_no_nulls = data['JobRoleInterest'].dropna()\n",
    "splitted_interests = interests_no_nulls.str.split(',')\n",
    "\n",
    "interests_no_nulls"
   ]
  },
  {
   "cell_type": "code",
   "execution_count": 4,
   "metadata": {
    "collapsed": false
   },
   "outputs": [
    {
     "data": {
      "text/plain": [
       "1     31.650458\n",
       "2     10.883867\n",
       "3     15.889588\n",
       "4     15.217391\n",
       "5     12.042334\n",
       "6      6.721968\n",
       "7      3.861556\n",
       "8      1.759153\n",
       "9      0.986842\n",
       "10     0.471968\n",
       "11     0.185927\n",
       "12     0.300343\n",
       "13     0.028604\n",
       "Name: JobRoleInterest, dtype: float64"
      ]
     },
     "execution_count": 4,
     "metadata": {},
     "output_type": "execute_result"
    }
   ],
   "source": [
    "# Frequency table for the var describing the number of options\n",
    "n_of_options = splitted_interests.apply(lambda x: len(x)) # x is a list of job options\n",
    "n_of_options.value_counts(normalize = True).sort_index() * 100"
   ]
  },
  {
   "cell_type": "code",
   "execution_count": 9,
   "metadata": {
    "collapsed": false
   },
   "outputs": [
    {
     "data": {
      "text/plain": [
       "True     86.241419\n",
       "False    13.758581\n",
       "Name: JobRoleInterest, dtype: float64"
      ]
     },
     "execution_count": 9,
     "metadata": {},
     "output_type": "execute_result"
    }
   ],
   "source": [
    "# Frequency table\n",
    "web_or_mobile = interests_no_nulls.str.contains(\n",
    "    'Web Developer|Mobile Developer') # returns an array of booleans\n",
    "freq_table = web_or_mobile.value_counts(normalize = True) * 100\n",
    "freq_table"
   ]
  },
  {
   "cell_type": "code",
   "execution_count": 8,
   "metadata": {
    "collapsed": false
   },
   "outputs": [
    {
     "name": "stdout",
     "output_type": "stream",
     "text": [
      "True     86.241419\n",
      "False    13.758581\n",
      "Name: JobRoleInterest, dtype: float64\n"
     ]
    },
    {
     "data": {
      "image/png": "[encoded data removed]",
      "text/plain": [
       "<matplotlib.figure.Figure at 0x7ff111392a90>"
      ]
     },
     "metadata": {},
     "output_type": "display_data"
    }
   ],
   "source": [
    "# Graph for the frequency table above\n",
    "%matplotlib inline\n",
    "import matplotlib.pyplot as plt\n",
    "plt.style.use('fivethirtyeight')\n",
    "\n",
    "freq_table.plot.bar()\n",
    "plt.title('Most Participants are Interested in \\nWeb or Mobile Development',\n",
    "          y = 1.08) # y pads the title upward\n",
    "plt.ylabel('Percentage', fontsize = 12)\n",
    "plt.xticks([0,1],['Web or mobile\\ndevelopment', 'Other subject'],\n",
    "           rotation = 0) # the initial xtick labels were True and False\n",
    "plt.ylim([0,100])\n",
    "plt.show()"
   ]
  },
  {
   "cell_type": "code",
   "execution_count": 14,
   "metadata": {
    "collapsed": false
   },
   "outputs": [
    {
     "data": {
      "text/plain": [
       "United States of America         45.700497\n",
       "India                             7.721556\n",
       "United Kingdom                    4.606610\n",
       "Canada                            3.802281\n",
       "Poland                            1.915765\n",
       "Brazil                            1.886517\n",
       "Germany                           1.828020\n",
       "Australia                         1.637906\n",
       "Russia                            1.491664\n",
       "Ukraine                           1.301550\n",
       "Nigeria                           1.228429\n",
       "Spain                             1.126060\n",
       "France                            1.096812\n",
       "Romania                           1.038315\n",
       "Netherlands (Holland, Europe)     0.950570\n",
       "Italy                             0.906698\n",
       "Serbia                            0.760456\n",
       "Philippines                       0.760456\n",
       "Greece                            0.672711\n",
       "Ireland                           0.628839\n",
       "South Africa                      0.570342\n",
       "Mexico                            0.541094\n",
       "Turkey                            0.526470\n",
       "Hungary                           0.497221\n",
       "Singapore                         0.497221\n",
       "New Zealand                       0.482597\n",
       "Argentina                         0.467973\n",
       "Croatia                           0.467973\n",
       "Pakistan                          0.453349\n",
       "Indonesia                         0.453349\n",
       "                                   ...    \n",
       "Guatemala                         0.014624\n",
       "Bolivia                           0.014624\n",
       "Somalia                           0.014624\n",
       "Vanuatu                           0.014624\n",
       "Gibraltar                         0.014624\n",
       "Nambia                            0.014624\n",
       "Aruba                             0.014624\n",
       "Anguilla                          0.014624\n",
       "Guadeloupe                        0.014624\n",
       "Sudan                             0.014624\n",
       "Jordan                            0.014624\n",
       "Cameroon                          0.014624\n",
       "Botswana                          0.014624\n",
       "Kyrgyzstan                        0.014624\n",
       "Cuba                              0.014624\n",
       "Samoa                             0.014624\n",
       "Cayman Islands                    0.014624\n",
       "Gambia                            0.014624\n",
       "Angola                            0.014624\n",
       "Nicaragua                         0.014624\n",
       "Trinidad & Tobago                 0.014624\n",
       "Yemen                             0.014624\n",
       "Mozambique                        0.014624\n",
       "Turkmenistan                      0.014624\n",
       "Papua New Guinea                  0.014624\n",
       "Panama                            0.014624\n",
       "Liberia                           0.014624\n",
       "Qatar                             0.014624\n",
       "Channel Islands                   0.014624\n",
       "Rwanda                            0.014624\n",
       "Name: CountryLive, Length: 137, dtype: float64"
      ]
     },
     "execution_count": 14,
     "metadata": {},
     "output_type": "execute_result"
    }
   ],
   "source": [
    "import pandas as pd\n",
    "data = pd.read_csv('2017-fCC-New-Coders-Survey-Data.csv', low_memory = 0)\n",
    "data['JobRoleInterest'].value_counts(normalize = True) * 100\n",
    "\n",
    "# Split each string in the 'JobRoleInterest' column\n",
    "interests_no_nulls = data['JobRoleInterest'].dropna()\n",
    "splitted_interests = interests_no_nulls.str.split(',')\n",
    "\n",
    "# Isolate the participants that answered what role they'd be interested in\n",
    "data_good = data[data['JobRoleInterest'].notnull()].copy()\n",
    "\n",
    "# Frequency tables with absolute and relative frequencies\n",
    "absolute_frequencies = data_good['CountryLive'].value_counts()\n",
    "relative_frequencies = data_good['CountryLive'].value_counts(normalize = True) * 100\n",
    "\n",
    "# Display the frequency tables in a more readable format\n",
    "pd.DataFrame(data = {'Absolute frequency': absolute_frequencies, \n",
    "                     'Percentage': relative_frequencies}\n",
    "            )\n",
    "absolute_frequencies\n",
    "relative_frequencies"
   ]
  },
  {
   "cell_type": "code",
   "execution_count": 15,
   "metadata": {
    "collapsed": false
   },
   "outputs": [
    {
     "data": {
      "text/plain": [
       "675"
      ]
     },
     "execution_count": 15,
     "metadata": {},
     "output_type": "execute_result"
    }
   ],
   "source": [
    "# Replace 0s with 1s to avoid division by 0\n",
    "data_good['MonthsProgramming'].replace(0,1, inplace = True)\n",
    "\n",
    "# New column for the amount of money each student spends each month\n",
    "data_good['money_per_month'] = data_good['MoneyForLearning'] / data_good['MonthsProgramming']\n",
    "data_good['money_per_month'].isnull().sum()"
   ]
  },
  {
   "cell_type": "code",
   "execution_count": 19,
   "metadata": {
    "collapsed": false
   },
   "outputs": [],
   "source": [
    "# Keep only the rows with non-nulls in the `money_per_month` column \n",
    "data_good = data_good[data_good['money_per_month'].notnull()]"
   ]
  },
  {
   "cell_type": "code",
   "execution_count": null,
   "metadata": {
    "collapsed": false
   },
   "outputs": [],
   "source": [
    "# Remove the rows with null values in 'CountryLive'\n",
    "data_good = data_good[data_good['CountryLive'].notnull()]"
   ]
  },
  {
   "cell_type": "code",
   "execution_count": 20,
   "metadata": {
    "collapsed": false
   },
   "outputs": [
    {
     "data": {
      "text/plain": [
       "United States of America    2933\n",
       "India                        463\n",
       "United Kingdom               279\n",
       "Canada                       240\n",
       "Poland                       122\n",
       "Name: CountryLive, dtype: int64"
      ]
     },
     "execution_count": 20,
     "metadata": {},
     "output_type": "execute_result"
    }
   ],
   "source": [
    "# Frequency table to check if we still have enough data\n",
    "data_good['CountryLive'].value_counts().head()"
   ]
  },
  {
   "cell_type": "code",
   "execution_count": 8,
   "metadata": {
    "collapsed": false
   },
   "outputs": [
    {
     "ename": "SyntaxError",
     "evalue": "invalid syntax (<ipython-input-8-a7749361f260>, line 22)",
     "output_type": "error",
     "traceback": [
      "\u001b[1;36m  File \u001b[1;32m\"<ipython-input-8-a7749361f260>\"\u001b[1;36m, line \u001b[1;32m22\u001b[0m\n\u001b[1;33m    data_good['money_per_month'] = data_good['MoneyForLearning'] / data_good['MonthsProgramming']\u001b[0m\n\u001b[1;37m            ^\u001b[0m\n\u001b[1;31mSyntaxError\u001b[0m\u001b[1;31m:\u001b[0m invalid syntax\n"
     ]
    }
   ],
   "source": [
    "import pandas as pd\n",
    "data = pd.read_csv('2017-fCC-New-Coders-Survey-Data.csv', low_memory = 0)\n",
    "data['JobRoleInterest'].value_counts(normalize = True) * 100\n",
    "\n",
    "# Split each string in the 'JobRoleInterest' column\n",
    "interests_no_nulls = data['JobRoleInterest'].dropna()\n",
    "splitted_interests = interests_no_nulls.str.split(',')\n",
    "\n",
    "# Isolate the participants that answered what role they'd be interested in\n",
    "data_good = data[data['JobRoleInterest'].notnull()].copy()\n",
    "\n",
    "# Frequency tables with absolute and relative frequencies\n",
    "absolute_frequencies = data_good['CountryLive'].value_counts()\n",
    "relative_frequencies = data_good['CountryLive'].value_counts(normalize = True) * 100\n",
    "\n",
    "# Display the frequency tables in a more readable format\n",
    "pd.DataFrame(data = {'Absolute frequency': absolute_frequencies, \n",
    "                     'Percentage': relative_frequencies}\n",
    "\n",
    "\n",
    "# New column for the amount of money each student spends each month\n",
    "data_good['money_per_month'] = data_good['MoneyForLearning'] / data_good['MonthsProgramming']\n",
    "data_good['money_per_month'].isnull().sum()\n",
    "data_good = data_good[data_good['money_per_month'].notnull()]\n",
    "data_good = data_good[data_good['CountryLive'].notnull()]\n",
    "countries_mean = data_good.groupby['CountryLive'].mean"
   ]
  },
  {
   "cell_type": "code",
   "execution_count": 10,
   "metadata": {
    "collapsed": false
   },
   "outputs": [
    {
     "ename": "NameError",
     "evalue": "name 'data_good' is not defined",
     "output_type": "error",
     "traceback": [
      "\u001b[1;31m\u001b[0m",
      "\u001b[1;31mNameError\u001b[0mTraceback (most recent call last)",
      "\u001b[1;32m<ipython-input-10-b67246277305>\u001b[0m in \u001b[0;36m<module>\u001b[1;34m()\u001b[0m\n\u001b[0;32m      1\u001b[0m \u001b[1;31m# Isolate only the countries of interest\u001b[0m\u001b[1;33m\u001b[0m\u001b[1;33m\u001b[0m\u001b[0m\n\u001b[1;32m----> 2\u001b[1;33m only_4 = data_good[data_good['CountryLive'].str.contains(\n\u001b[0m\u001b[0;32m      3\u001b[0m     'United States of America|India|United Kingdom|Canada')]\n\u001b[0;32m      4\u001b[0m \u001b[1;33m\u001b[0m\u001b[0m\n\u001b[0;32m      5\u001b[0m \u001b[1;31m# Box plots to visualize distributions\u001b[0m\u001b[1;33m\u001b[0m\u001b[1;33m\u001b[0m\u001b[0m\n",
      "\u001b[1;31mNameError\u001b[0m: name 'data_good' is not defined"
     ]
    }
   ],
   "source": [
    "# Isolate only the countries of interest\n",
    "only_4 = data_good[data_good['CountryLive'].str.contains(\n",
    "    'United States of America|India|United Kingdom|Canada')]\n",
    "\n",
    "# Box plots to visualize distributions\n",
    "import seaborn as sns\n",
    "sns.boxplot(y = 'money_per_month', x = 'CountryLive',\n",
    "            data = only_4)\n",
    "plt.title('Money Spent Per Month Per Country\\n(Distributions)',\n",
    "         fontsize = 16)\n",
    "plt.ylabel('Money per month (US dollars)')\n",
    "plt.xlabel('Country')\n",
    "plt.xticks(range(4), ['US', 'UK', 'India', 'Canada']) # avoids tick labels overlap\n",
    "plt.show()"
   ]
  },
  {
   "cell_type": "code",
   "execution_count": 11,
   "metadata": {
    "collapsed": false
   },
   "outputs": [
    {
     "ename": "NameError",
     "evalue": "name 'data_good' is not defined",
     "output_type": "error",
     "traceback": [
      "\u001b[1;31m\u001b[0m",
      "\u001b[1;31mNameError\u001b[0mTraceback (most recent call last)",
      "\u001b[1;32m<ipython-input-11-a35a30ee9adf>\u001b[0m in \u001b[0;36m<module>\u001b[1;34m()\u001b[0m\n\u001b[0;32m      1\u001b[0m \u001b[1;31m# Isolate only those participants who spend less than 10000 per month\u001b[0m\u001b[1;33m\u001b[0m\u001b[1;33m\u001b[0m\u001b[0m\n\u001b[1;32m----> 2\u001b[1;33m \u001b[0mfcc_good\u001b[0m \u001b[1;33m=\u001b[0m \u001b[0mdata_good\u001b[0m\u001b[1;33m[\u001b[0m\u001b[0mdata_good\u001b[0m\u001b[1;33m[\u001b[0m\u001b[1;34m'money_per_month'\u001b[0m\u001b[1;33m]\u001b[0m \u001b[1;33m<\u001b[0m \u001b[1;36m20000\u001b[0m\u001b[1;33m]\u001b[0m\u001b[1;33m\u001b[0m\u001b[0m\n\u001b[0m",
      "\u001b[1;31mNameError\u001b[0m: name 'data_good' is not defined"
     ]
    }
   ],
   "source": [
    "# Isolate only those participants who spend less than 10000 per month\n",
    "fcc_good = data_good[data_good['money_per_month'] < 20000]"
   ]
  },
  {
   "cell_type": "code",
   "execution_count": 12,
   "metadata": {
    "collapsed": false
   },
   "outputs": [
    {
     "ename": "NameError",
     "evalue": "name 'data_good' is not defined",
     "output_type": "error",
     "traceback": [
      "\u001b[1;31m\u001b[0m",
      "\u001b[1;31mNameError\u001b[0mTraceback (most recent call last)",
      "\u001b[1;32m<ipython-input-12-3bc0ec6f2cd8>\u001b[0m in \u001b[0;36m<module>\u001b[1;34m()\u001b[0m\n\u001b[0;32m      1\u001b[0m \u001b[1;33m\u001b[0m\u001b[0m\n\u001b[0;32m      2\u001b[0m \u001b[1;31m# Isolate again the countries of interest\u001b[0m\u001b[1;33m\u001b[0m\u001b[1;33m\u001b[0m\u001b[0m\n\u001b[1;32m----> 3\u001b[1;33m only_4 = data_good[data_good['CountryLive'].str.contains(\n\u001b[0m\u001b[0;32m      4\u001b[0m     'United States of America|India|United Kingdom|Canada')]\n\u001b[0;32m      5\u001b[0m \u001b[1;33m\u001b[0m\u001b[0m\n",
      "\u001b[1;31mNameError\u001b[0m: name 'data_good' is not defined"
     ]
    }
   ],
   "source": [
    "\n",
    "# Isolate again the countries of interest\n",
    "only_4 = data_good[data_good['CountryLive'].str.contains(\n",
    "    'United States of America|India|United Kingdom|Canada')]\n",
    "\n",
    "# Box plots to visualize distributions\n",
    "sns.boxplot(y = 'money_per_month', x = 'CountryLive',\n",
    "            data = only_4)\n",
    "plt.title('Money Spent Per Month Per Country\\n(Distributions)',\n",
    "         fontsize = 16)\n",
    "plt.ylabel('Money per month (US dollars)')\n",
    "plt.xlabel('Country')\n",
    "plt.xticks(range(4), ['US', 'UK', 'India', 'Canada']) # avoids tick labels overlap\n",
    "plt.show()"
   ]
  },
  {
   "cell_type": "code",
   "execution_count": 13,
   "metadata": {
    "collapsed": false
   },
   "outputs": [
    {
     "ename": "NameError",
     "evalue": "name 'only_4' is not defined",
     "output_type": "error",
     "traceback": [
      "\u001b[1;31m\u001b[0m",
      "\u001b[1;31mNameError\u001b[0mTraceback (most recent call last)",
      "\u001b[1;32m<ipython-input-13-d6d611e6097a>\u001b[0m in \u001b[0;36m<module>\u001b[1;34m()\u001b[0m\n\u001b[0;32m      1\u001b[0m \u001b[1;31m# Inspect the extreme outliers for India\u001b[0m\u001b[1;33m\u001b[0m\u001b[1;33m\u001b[0m\u001b[0m\n\u001b[1;32m----> 2\u001b[1;33m india_outliers = only_4[\n\u001b[0m\u001b[0;32m      3\u001b[0m     \u001b[1;33m(\u001b[0m\u001b[0monly_4\u001b[0m\u001b[1;33m[\u001b[0m\u001b[1;34m'CountryLive'\u001b[0m\u001b[1;33m]\u001b[0m \u001b[1;33m==\u001b[0m \u001b[1;34m'India'\u001b[0m\u001b[1;33m)\u001b[0m \u001b[1;33m&\u001b[0m\u001b[1;33m\u001b[0m\u001b[0m\n\u001b[0;32m      4\u001b[0m     (only_4['money_per_month'] >= 2500)]\n\u001b[0;32m      5\u001b[0m \u001b[0mindia_outliers\u001b[0m\u001b[1;33m\u001b[0m\u001b[0m\n",
      "\u001b[1;31mNameError\u001b[0m: name 'only_4' is not defined"
     ]
    }
   ],
   "source": [
    "# Inspect the extreme outliers for India\n",
    "india_outliers = only_4[\n",
    "    (only_4['CountryLive'] == 'India') & \n",
    "    (only_4['money_per_month'] >= 2500)]\n",
    "india_outliers\n",
    "\n",
    "# Remove the outliers for India\n",
    "only_4 = only_4.drop(india_outliers.index) # using the row labels\n",
    "\n",
    "# Examine the extreme outliers for the US\n",
    "us_outliers = only_4[\n",
    "    (only_4['CountryLive'] == 'United States of America') & \n",
    "    (only_4['money_per_month'] >= 6000)]\n",
    "\n",
    "us_outliers"
   ]
  },
  {
   "cell_type": "code",
   "execution_count": 14,
   "metadata": {
    "collapsed": false
   },
   "outputs": [
    {
     "ename": "NameError",
     "evalue": "name 'only_4' is not defined",
     "output_type": "error",
     "traceback": [
      "\u001b[1;31m\u001b[0m",
      "\u001b[1;31mNameError\u001b[0mTraceback (most recent call last)",
      "\u001b[1;32m<ipython-input-14-0f4a36ea78cd>\u001b[0m in \u001b[0;36m<module>\u001b[1;34m()\u001b[0m\n\u001b[0;32m      1\u001b[0m \u001b[1;33m\u001b[0m\u001b[0m\n\u001b[0;32m      2\u001b[0m \u001b[1;31m# Remove the respondents who didn't attendent a bootcamp\u001b[0m\u001b[1;33m\u001b[0m\u001b[1;33m\u001b[0m\u001b[0m\n\u001b[1;32m----> 3\u001b[1;33m no_bootcamp = only_4[\n\u001b[0m\u001b[0;32m      4\u001b[0m     \u001b[1;33m(\u001b[0m\u001b[0monly_4\u001b[0m\u001b[1;33m[\u001b[0m\u001b[1;34m'CountryLive'\u001b[0m\u001b[1;33m]\u001b[0m \u001b[1;33m==\u001b[0m \u001b[1;34m'United States of America'\u001b[0m\u001b[1;33m)\u001b[0m \u001b[1;33m&\u001b[0m\u001b[1;33m\u001b[0m\u001b[0m\n\u001b[0;32m      5\u001b[0m     \u001b[1;33m(\u001b[0m\u001b[0monly_4\u001b[0m\u001b[1;33m[\u001b[0m\u001b[1;34m'money_per_month'\u001b[0m\u001b[1;33m]\u001b[0m \u001b[1;33m>=\u001b[0m \u001b[1;36m6000\u001b[0m\u001b[1;33m)\u001b[0m \u001b[1;33m&\u001b[0m\u001b[1;33m\u001b[0m\u001b[0m\n",
      "\u001b[1;31mNameError\u001b[0m: name 'only_4' is not defined"
     ]
    }
   ],
   "source": [
    "\n",
    "# Remove the respondents who didn't attendent a bootcamp\n",
    "no_bootcamp = only_4[\n",
    "    (only_4['CountryLive'] == 'United States of America') & \n",
    "    (only_4['money_per_month'] >= 6000) &\n",
    "    (only_4['AttendedBootcamp'] == 0)\n",
    "]\n",
    "\n",
    "only_4 = only_4.drop(no_bootcamp.index)\n",
    "\n",
    "\n",
    "# Remove the respondents that had been programming for less than 3 months\n",
    "less_than_3_months = only_4[\n",
    "    (only_4['CountryLive'] == 'United States of America') & \n",
    "    (only_4['money_per_month'] >= 6000) &\n",
    "    (only_4['MonthsProgramming'] <= 3)\n",
    "]\n",
    "\n",
    "only_4 = only_4.drop(less_than_3_months.index)"
   ]
  },
  {
   "cell_type": "code",
   "execution_count": 15,
   "metadata": {
    "collapsed": false
   },
   "outputs": [
    {
     "ename": "NameError",
     "evalue": "name 'only_4' is not defined",
     "output_type": "error",
     "traceback": [
      "\u001b[1;31m\u001b[0m",
      "\u001b[1;31mNameError\u001b[0mTraceback (most recent call last)",
      "\u001b[1;32m<ipython-input-15-d667df147e3e>\u001b[0m in \u001b[0;36m<module>\u001b[1;34m()\u001b[0m\n\u001b[0;32m      1\u001b[0m \u001b[1;33m\u001b[0m\u001b[0m\n\u001b[0;32m      2\u001b[0m \u001b[1;31m# Examine the extreme outliers for Canada\u001b[0m\u001b[1;33m\u001b[0m\u001b[1;33m\u001b[0m\u001b[0m\n\u001b[1;32m----> 3\u001b[1;33m canada_outliers = only_4[\n\u001b[0m\u001b[0;32m      4\u001b[0m     \u001b[1;33m(\u001b[0m\u001b[0monly_4\u001b[0m\u001b[1;33m[\u001b[0m\u001b[1;34m'CountryLive'\u001b[0m\u001b[1;33m]\u001b[0m \u001b[1;33m==\u001b[0m \u001b[1;34m'Canada'\u001b[0m\u001b[1;33m)\u001b[0m \u001b[1;33m&\u001b[0m\u001b[1;33m\u001b[0m\u001b[0m\n\u001b[0;32m      5\u001b[0m     (only_4['money_per_month'] > 4500)]\n",
      "\u001b[1;31mNameError\u001b[0m: name 'only_4' is not defined"
     ]
    }
   ],
   "source": [
    "\n",
    "# Examine the extreme outliers for Canada\n",
    "canada_outliers = only_4[\n",
    "    (only_4['CountryLive'] == 'Canada') & \n",
    "    (only_4['money_per_month'] > 4500)]\n",
    "\n",
    "canada_outliers"
   ]
  },
  {
   "cell_type": "code",
   "execution_count": 16,
   "metadata": {
    "collapsed": false
   },
   "outputs": [
    {
     "ename": "NameError",
     "evalue": "name 'only_4' is not defined",
     "output_type": "error",
     "traceback": [
      "\u001b[1;31m\u001b[0m",
      "\u001b[1;31mNameError\u001b[0mTraceback (most recent call last)",
      "\u001b[1;32m<ipython-input-16-4111dc4495dd>\u001b[0m in \u001b[0;36m<module>\u001b[1;34m()\u001b[0m\n\u001b[0;32m      1\u001b[0m \u001b[1;31m# Remove the extreme outliers for Canada\u001b[0m\u001b[1;33m\u001b[0m\u001b[1;33m\u001b[0m\u001b[0m\n\u001b[1;32m----> 2\u001b[1;33m \u001b[0monly_4\u001b[0m \u001b[1;33m=\u001b[0m \u001b[0monly_4\u001b[0m\u001b[1;33m.\u001b[0m\u001b[0mdrop\u001b[0m\u001b[1;33m(\u001b[0m\u001b[0mcanada_outliers\u001b[0m\u001b[1;33m.\u001b[0m\u001b[0mindex\u001b[0m\u001b[1;33m)\u001b[0m\u001b[1;33m\u001b[0m\u001b[0m\n\u001b[0m",
      "\u001b[1;31mNameError\u001b[0m: name 'only_4' is not defined"
     ]
    }
   ],
   "source": [
    "# Remove the extreme outliers for Canada\n",
    "only_4 = only_4.drop(canada_outliers.index)\n",
    "# Recompute mean sum of money spent by students each month\n",
    "only_4.groupby('CountryLive').mean()['money_per_month']"
   ]
  },
  {
   "cell_type": "code",
   "execution_count": 17,
   "metadata": {
    "collapsed": false
   },
   "outputs": [
    {
     "ename": "NameError",
     "evalue": "name 'sns' is not defined",
     "output_type": "error",
     "traceback": [
      "\u001b[1;31m\u001b[0m",
      "\u001b[1;31mNameError\u001b[0mTraceback (most recent call last)",
      "\u001b[1;32m<ipython-input-17-62df9abb8a8a>\u001b[0m in \u001b[0;36m<module>\u001b[1;34m()\u001b[0m\n\u001b[0;32m      1\u001b[0m \u001b[1;31m# Visualize the distributions again\u001b[0m\u001b[1;33m\u001b[0m\u001b[1;33m\u001b[0m\u001b[0m\n\u001b[1;32m----> 2\u001b[1;33m sns.boxplot(y = 'money_per_month', x = 'CountryLive',\n\u001b[0m\u001b[0;32m      3\u001b[0m             data = only_4)\n\u001b[0;32m      4\u001b[0m plt.title('Money Spent Per Month Per Country\\n(Distributions)',\n\u001b[0;32m      5\u001b[0m           fontsize = 16)\n",
      "\u001b[1;31mNameError\u001b[0m: name 'sns' is not defined"
     ]
    }
   ],
   "source": [
    "# Visualize the distributions again\n",
    "sns.boxplot(y = 'money_per_month', x = 'CountryLive',\n",
    "            data = only_4)\n",
    "plt.title('Money Spent Per Month Per Country\\n(Distributions)',\n",
    "          fontsize = 16)\n",
    "plt.ylabel('Money per month (US dollars)')\n",
    "plt.xlabel('Country')\n",
    "plt.xticks(range(4), ['US', 'UK', 'India', 'Canada']) # avoids tick labels overlap\n",
    "plt.show()"
   ]
  },
  {
   "cell_type": "code",
   "execution_count": 18,
   "metadata": {
    "collapsed": false
   },
   "outputs": [
    {
     "ename": "NameError",
     "evalue": "name 'only_4' is not defined",
     "output_type": "error",
     "traceback": [
      "\u001b[1;31m\u001b[0m",
      "\u001b[1;31mNameError\u001b[0mTraceback (most recent call last)",
      "\u001b[1;32m<ipython-input-18-736b8291436a>\u001b[0m in \u001b[0;36m<module>\u001b[1;34m()\u001b[0m\n\u001b[0;32m      1\u001b[0m \u001b[1;33m\u001b[0m\u001b[0m\n\u001b[0;32m      2\u001b[0m \u001b[1;31m# Frequency table for the 'CountryLive' column\u001b[0m\u001b[1;33m\u001b[0m\u001b[1;33m\u001b[0m\u001b[0m\n\u001b[1;32m----> 3\u001b[1;33m \u001b[0monly_4\u001b[0m\u001b[1;33m[\u001b[0m\u001b[1;34m'CountryLive'\u001b[0m\u001b[1;33m]\u001b[0m\u001b[1;33m.\u001b[0m\u001b[0mvalue_counts\u001b[0m\u001b[1;33m(\u001b[0m\u001b[0mnormalize\u001b[0m \u001b[1;33m=\u001b[0m \u001b[1;32mTrue\u001b[0m\u001b[1;33m)\u001b[0m \u001b[1;33m*\u001b[0m \u001b[1;36m100\u001b[0m\u001b[1;33m\u001b[0m\u001b[0m\n\u001b[0m",
      "\u001b[1;31mNameError\u001b[0m: name 'only_4' is not defined"
     ]
    }
   ],
   "source": [
    "\n",
    "# Frequency table for the 'CountryLive' column\n",
    "only_4['CountryLive'].value_counts(normalize = True) * 100"
   ]
  },
  {
   "cell_type": "code",
   "execution_count": null,
   "metadata": {
    "collapsed": true
   },
   "outputs": [],
   "source": []
  }
 ],
 "metadata": {
  "kernelspec": {
   "display_name": "Python 3",
   "language": "python",
   "name": "python3"
  },
  "language_info": {
   "codemirror_mode": {
    "name": "ipython",
    "version": 3
   },
   "file_extension": ".py",
   "mimetype": "text/x-python",
   "name": "python",
   "nbconvert_exporter": "python",
   "pygments_lexer": "ipython3",
   "version": "3.4.3"
  }
 },
 "nbformat": 4,
 "nbformat_minor": 2
}
